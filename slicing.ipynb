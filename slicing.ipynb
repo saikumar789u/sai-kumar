{
 "cells": [
  {
   "cell_type": "code",
   "execution_count": 20,
   "metadata": {},
   "outputs": [
    {
     "name": "stdout",
     "output_type": "stream",
     "text": [
      "9\n"
     ]
    }
   ],
   "source": [
    "# sum of small and large  \n",
    "n=int(input())\n",
    "max=0\n",
    "min=9\n",
    "while n!=0:\n",
    "    digit=n%10\n",
    "    if digit>max:\n",
    "        max=digit\n",
    "    elif digit<min:\n",
    "        min=digit\n",
    "    n=n//10\n",
    "print(max+min)                 "
   ]
  },
  {
   "cell_type": "code",
   "execution_count": 10,
   "metadata": {},
   "outputs": [
    {
     "name": "stdout",
     "output_type": "stream",
     "text": [
      "6\n",
      "2\n",
      "1\n"
     ]
    }
   ],
   "source": [
    "# factors\n",
    "n=123\n",
    "while n!=0:\n",
    "    ld=n%10\n",
    "    i=1\n",
    "    p=1\n",
    "    while i<=ld:\n",
    "        p=p*i\n",
    "        i+=1\n",
    "    print(p)\n",
    "    n=n//10    \n",
    "        "
   ]
  },
  {
   "cell_type": "code",
   "execution_count": 15,
   "metadata": {},
   "outputs": [
    {
     "name": "stdout",
     "output_type": "stream",
     "text": [
      "10\n"
     ]
    }
   ],
   "source": [
    "#fd and id\n",
    "n=2468\n",
    "fd=n%10\n",
    "ld=n%10\n",
    "while n!=0:\n",
    "    digit=n%10\n",
    "    fd=digit\n",
    "    n=n//10\n",
    "print(fd+ld)    "
   ]
  },
  {
   "cell_type": "code",
   "execution_count": 16,
   "metadata": {},
   "outputs": [
    {
     "name": "stdout",
     "output_type": "stream",
     "text": [
      "10\n"
     ]
    }
   ],
   "source": [
    "# first and last digit\n",
    "n=2468\n",
    "s=0\n",
    "d=n%10\n",
    "s=s+d\n",
    "n=n//10\n",
    "while n>9:\n",
    "    n=n//10\n",
    "s=s+n\n",
    "print(s)    "
   ]
  },
  {
   "cell_type": "code",
   "execution_count": null,
   "metadata": {},
   "outputs": [
    {
     "name": "stdout",
     "output_type": "stream",
     "text": [
      "25\n",
      "16\n",
      "9\n",
      "4\n",
      "1\n"
     ]
    }
   ],
   "source": [
    "# square of the numbers\n",
    "n=12345\n",
    "while n!=0:\n",
    "    digit=n%10\n",
    "    squ=digit**2\n",
    "    print(squ)\n",
    "    n=n//10"
   ]
  },
  {
   "cell_type": "code",
   "execution_count": 23,
   "metadata": {},
   "outputs": [
    {
     "name": "stdout",
     "output_type": "stream",
     "text": [
      "palindrome\n"
     ]
    }
   ],
   "source": [
    "#palindrone number or not\n",
    "n=2355\n",
    "d=n%100\n",
    "temp=d\n",
    "s=0\n",
    "while d!=0:\n",
    "    ld=d%10\n",
    "    s=s*10+ld\n",
    "    d=d//10\n",
    "if temp==s:\n",
    "    print(\"palindrome\")\n",
    "else:\n",
    "    print(\"not palindrome\")     "
   ]
  },
  {
   "cell_type": "code",
   "execution_count": 26,
   "metadata": {},
   "outputs": [
    {
     "name": "stdout",
     "output_type": "stream",
     "text": [
      "palindrome\n"
     ]
    }
   ],
   "source": [
    "# palindrome or not\n",
    "s=\"level\"\n",
    "s1=s[::-1]\n",
    "if s==s1:\n",
    "    print(\"palindrome\")\n",
    "else:\n",
    "    print(\"not a palindrome\")"
   ]
  },
  {
   "cell_type": "code",
   "execution_count": 47,
   "metadata": {},
   "outputs": [
    {
     "name": "stdout",
     "output_type": "stream",
     "text": [
      " abcdEFGH\n"
     ]
    }
   ],
   "source": [
    "st=\"abcdefgh\"\n",
    "c=0\n",
    "for i in st:\n",
    "    c+=1\n",
    "c2=c//2\n",
    "c=0\n",
    "res=\" \"\n",
    "for i in st:\n",
    "    c+=1\n",
    "    if c>c2:\n",
    "        res=res+chr(ord(i)-32)\n",
    "    else:\n",
    "        res=res+i\n",
    "print(res)              \n",
    "    "
   ]
  }
 ],
 "metadata": {
  "kernelspec": {
   "display_name": "Python 3",
   "language": "python",
   "name": "python3"
  },
  "language_info": {
   "codemirror_mode": {
    "name": "ipython",
    "version": 3
   },
   "file_extension": ".py",
   "mimetype": "text/x-python",
   "name": "python",
   "nbconvert_exporter": "python",
   "pygments_lexer": "ipython3",
   "version": "3.13.1"
  }
 },
 "nbformat": 4,
 "nbformat_minor": 2
}
